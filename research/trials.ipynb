{
 "cells": [
  {
   "cell_type": "code",
   "execution_count": 1,
   "metadata": {},
   "outputs": [
    {
     "name": "stderr",
     "output_type": "stream",
     "text": [
      "/Users/swatimittal/opt/anaconda3/envs/mchatbot/lib/python3.8/site-packages/pinecone/data/index.py:1: TqdmWarning: IProgress not found. Please update jupyter and ipywidgets. See https://ipywidgets.readthedocs.io/en/stable/user_install.html\n",
      "  from tqdm.autonotebook import tqdm\n"
     ]
    }
   ],
   "source": [
    "from langchain import PromptTemplate\n",
    "from langchain.chains import RetrievalQA\n",
    "from langchain.embeddings import HuggingFaceEmbeddings\n",
    "from langchain.vectorstores import Pinecone\n",
    "import pinecone\n",
    "from langchain.document_loaders import PyPDFLoader, DirectoryLoader\n",
    "from langchain.text_splitter import RecursiveCharacterTextSplitter\n",
    "from langchain.prompts import PromptTemplate\n",
    "from langchain.llms import CTransformers"
   ]
  },
  {
   "cell_type": "code",
   "execution_count": 2,
   "metadata": {},
   "outputs": [],
   "source": [
    "# PINECONE_API_KEY "
   ]
  },
  {
   "cell_type": "code",
   "execution_count": 3,
   "metadata": {},
   "outputs": [],
   "source": [
    "#Extract data from the PDF\n",
    "def load_pdf(data):\n",
    "    loader = DirectoryLoader(data,\n",
    "                    glob=\"*.pdf\",\n",
    "                    loader_cls=PyPDFLoader)\n",
    "    \n",
    "    documents = loader.load()\n",
    "\n",
    "    return documents"
   ]
  },
  {
   "cell_type": "code",
   "execution_count": 4,
   "metadata": {},
   "outputs": [],
   "source": [
    "extracted_data = load_pdf(\"data/\")"
   ]
  },
  {
   "cell_type": "code",
   "execution_count": 40,
   "metadata": {},
   "outputs": [],
   "source": [
    "#extracted_data"
   ]
  },
  {
   "cell_type": "code",
   "execution_count": 6,
   "metadata": {},
   "outputs": [],
   "source": [
    "#Create text chunks\n",
    "def text_split(extracted_data):\n",
    "    text_splitter = RecursiveCharacterTextSplitter(chunk_size = 500, chunk_overlap = 20)\n",
    "    text_chunks = text_splitter.split_documents(extracted_data)\n",
    "\n",
    "    return text_chunks"
   ]
  },
  {
   "cell_type": "code",
   "execution_count": 7,
   "metadata": {},
   "outputs": [
    {
     "name": "stdout",
     "output_type": "stream",
     "text": [
      "length of my chunk: 5859\n"
     ]
    }
   ],
   "source": [
    "text_chunks = text_split(extracted_data)\n",
    "print(\"length of my chunk:\", len(text_chunks))"
   ]
  },
  {
   "cell_type": "code",
   "execution_count": 8,
   "metadata": {},
   "outputs": [],
   "source": [
    "#download embedding model\n",
    "def download_hugging_face_embeddings():\n",
    "    embeddings = HuggingFaceEmbeddings(model_name=\"sentence-transformers/all-MiniLM-L6-v2\")\n",
    "    return embeddings"
   ]
  },
  {
   "cell_type": "code",
   "execution_count": 9,
   "metadata": {},
   "outputs": [
    {
     "name": "stderr",
     "output_type": "stream",
     "text": [
      "<ipython-input-8-7b001b2503ba>:3: LangChainDeprecationWarning: The class `HuggingFaceEmbeddings` was deprecated in LangChain 0.2.2 and will be removed in 1.0. An updated version of the class exists in the langchain-huggingface package and should be used instead. To use it run `pip install -U langchain-huggingface` and import as `from langchain_huggingface import HuggingFaceEmbeddings`.\n",
      "  embeddings = HuggingFaceEmbeddings(model_name=\"sentence-transformers/all-MiniLM-L6-v2\")\n"
     ]
    }
   ],
   "source": [
    "embeddings = download_hugging_face_embeddings()"
   ]
  },
  {
   "cell_type": "code",
   "execution_count": 10,
   "metadata": {},
   "outputs": [
    {
     "data": {
      "text/plain": [
       "HuggingFaceEmbeddings(client=SentenceTransformer(\n",
       "  (0): Transformer({'max_seq_length': 256, 'do_lower_case': False}) with Transformer model: BertModel \n",
       "  (1): Pooling({'word_embedding_dimension': 384, 'pooling_mode_cls_token': False, 'pooling_mode_mean_tokens': True, 'pooling_mode_max_tokens': False, 'pooling_mode_mean_sqrt_len_tokens': False, 'pooling_mode_weightedmean_tokens': False, 'pooling_mode_lasttoken': False, 'include_prompt': True})\n",
       "  (2): Normalize()\n",
       "), model_name='sentence-transformers/all-MiniLM-L6-v2', cache_folder=None, model_kwargs={}, encode_kwargs={}, multi_process=False, show_progress=False)"
      ]
     },
     "execution_count": 10,
     "metadata": {},
     "output_type": "execute_result"
    }
   ],
   "source": [
    "\n",
    "embeddings"
   ]
  },
  {
   "cell_type": "code",
   "execution_count": 11,
   "metadata": {},
   "outputs": [
    {
     "name": "stdout",
     "output_type": "stream",
     "text": [
      "Length 384\n"
     ]
    }
   ],
   "source": [
    "query_result = embeddings.embed_query(\"Hello world\")\n",
    "print(\"Length\", len(query_result))"
   ]
  },
  {
   "cell_type": "code",
   "execution_count": 13,
   "metadata": {},
   "outputs": [
    {
     "name": "stdout",
     "output_type": "stream",
     "text": [
      "Python: /Users/swatimittal/opt/anaconda3/envs/mchatbot/bin/python\n",
      "Pinecone location: /Users/swatimittal/opt/anaconda3/envs/mchatbot/lib/python3.8/site-packages/pinecone/__init__.py\n",
      "Pinecone version: 5.4.2\n",
      "✓ Import successful!\n"
     ]
    }
   ],
   "source": [
    "# Verify environment and version\n",
    "import sys\n",
    "print(\"Python:\", sys.executable)\n",
    "\n",
    "import pinecone\n",
    "print(\"Pinecone location:\", pinecone.__file__)\n",
    "print(\"Pinecone version:\", pinecone.__version__)\n",
    "\n",
    "# This should work now\n",
    "from pinecone import Pinecone, ServerlessSpec\n",
    "print(\"✓ Import successful!\")\n"
   ]
  },
  {
   "cell_type": "code",
   "execution_count": 15,
   "metadata": {},
   "outputs": [
    {
     "name": "stdout",
     "output_type": "stream",
     "text": [
      "✓ Vector store created with 5859 chunks\n"
     ]
    }
   ],
   "source": [
    "import os\n",
    "from pinecone import Pinecone, ServerlessSpec\n",
    "from langchain_pinecone import PineconeVectorStore\n",
    "from langchain_community.embeddings import HuggingFaceEmbeddings\n",
    "\n",
    "# Set the API key as environment variable\n",
    "os.environ[\"PINECONE_API_KEY\"] = \"pcsk_7UDnjy_BN6YTE2UNSzXWXY1Fex6f8Uvyd2rrYAK6PfEtRvmz48VD5VWJ2EGLDBxjM2bYEG\"\n",
    "\n",
    "# Initialize Pinecone to create the index\n",
    "pc = Pinecone(api_key=os.environ[\"PINECONE_API_KEY\"])\n",
    "\n",
    "index_name = \"medical-chatbot\"\n",
    "\n",
    "# Create serverless index if it doesn't exist\n",
    "if index_name not in pc.list_indexes().names():\n",
    "    pc.create_index(\n",
    "        name=index_name,\n",
    "        dimension=384,\n",
    "        metric=\"cosine\",\n",
    "        spec=ServerlessSpec(cloud=\"aws\", region=\"us-east-1\"),\n",
    "    )\n",
    "\n",
    "# Initialize embeddings\n",
    "embeddings = HuggingFaceEmbeddings(model_name=\"sentence-transformers/all-MiniLM-L6-v2\")\n",
    "\n",
    "# Now from_texts will find the API key from environment\n",
    "docsearch = PineconeVectorStore.from_texts(\n",
    "    texts=[t.page_content for t in text_chunks],\n",
    "    embedding=embeddings,\n",
    "    index_name=index_name,\n",
    ")\n",
    "\n",
    "print(f\"✓ Vector store created with {len(text_chunks)} chunks\")\n",
    "\n"
   ]
  },
  {
   "cell_type": "code",
   "execution_count": 17,
   "metadata": {},
   "outputs": [
    {
     "name": "stdout",
     "output_type": "stream",
     "text": [
      "\n",
      "Result 1:\n",
      "• Type I diabetes mellitus. Characterized by fatigue and\n",
      "an abnormally high level of glucose in the blood\n",
      "(hyperglycemia).\n",
      "• Amyotrophic lateral schlerosis. First signs are stum-\n",
      "bling and difficulty climbing stairs. Later, muscle\n",
      "cramps and twitching may be observed as well as\n",
      "weakness in the hands making fastening buttons or\n",
      "turning a key difficult. Speech may become slowed or\n",
      "slurred. There may also be difficluty swallowing. As\n",
      "respiratory muscles atrophy, there is increased danger\n",
      "\n",
      "Result 2:\n",
      "begin to fall. A person with diabetes mellitus either does\n",
      "not make enough insulin, or makes insulin that does not\n",
      "work properly. The result is blood sugar that remains\n",
      "high, a condition called hyperglycemia.\n",
      "Diabetes must be diagnosed as early as possible. If\n",
      "left untreated, it can damage or cause failure of the eyes,\n",
      "kidneys, nerves, heart, blood vessels, and other body\n",
      "organs. Hypoglycemia, or low blood sugar, may also be\n",
      "discovered through blood sugar testing. Hypoglycemia is\n",
      "\n",
      "Result 3:\n",
      "Resources\n",
      "BOOKS\n",
      "A Manual of Laboratory and Diagnostic Tests.5th ed. Ed.\n",
      "Francis Fishback. Philadelphia: Lippincott, 1996.\n",
      "Henry, John B., ed. Clinical Diagnosis and Management by\n",
      "Laboratory Methods. 19th ed. Philadelphia: W. B. Saun-\n",
      "ders Co., 1996.\n",
      "PERIODICALS\n",
      "American Diabetes Association. “Report of the Expert Com-\n",
      "mittee on the Diagnosis and Classification of Diabetes\n",
      "Mellitus.” Diabetes Care 20, no, 7(July 997): 1183-1197.\n",
      "ORGANIZATIONS\n"
     ]
    }
   ],
   "source": [
    "# Perform similarity search\n",
    "query = \"What are the symptoms of diabetes?\"\n",
    "docs = docsearch.similarity_search(query, k=3)\n",
    "\n",
    "for i, doc in enumerate(docs):\n",
    "    print(f\"\\nResult {i+1}:\")\n",
    "    print(doc.page_content)\n"
   ]
  },
  {
   "cell_type": "code",
   "execution_count": 20,
   "metadata": {},
   "outputs": [],
   "source": [
    "prompt_template=\"\"\"\n",
    "Use the following pieces of information to answer the user's question.\n",
    "If you don't know the answer, just say that you don't know, don't try to make up an answer.\n",
    "\n",
    "Context: {context}\n",
    "Question: {question}\n",
    "\n",
    "Only return the helpful answer below and nothing else.\n",
    "Helpful answer:\n",
    "\"\"\"\n",
    "\n"
   ]
  },
  {
   "cell_type": "code",
   "execution_count": 21,
   "metadata": {},
   "outputs": [],
   "source": [
    "PROMPT=PromptTemplate(template=prompt_template, input_variables=[\"context\", \"question\"])\n",
    "chain_type_kwargs={\"prompt\": PROMPT}"
   ]
  },
  {
   "cell_type": "code",
   "execution_count": null,
   "metadata": {},
   "outputs": [],
   "source": []
  },
  {
   "cell_type": "code",
   "execution_count": 28,
   "metadata": {},
   "outputs": [
    {
     "name": "stderr",
     "output_type": "stream",
     "text": [
      "Exception ignored in: <function LlamaModel.__del__ at 0x3dd52e700>\n",
      "Traceback (most recent call last):\n",
      "  File \"/Users/swatimittal/opt/anaconda3/envs/mchatbot/lib/python3.8/site-packages/llama_cpp/_internals.py\", line 86, in __del__\n",
      "    self.close()\n",
      "  File \"/Users/swatimittal/opt/anaconda3/envs/mchatbot/lib/python3.8/site-packages/llama_cpp/_internals.py\", line 78, in close\n",
      "    if self.sampler is not None:\n",
      "AttributeError: 'LlamaModel' object has no attribute 'sampler'\n"
     ]
    },
    {
     "name": "stdout",
     "output_type": "stream",
     "text": [
      "Model downloaded to: model/llama-2-7b-chat.Q4_0.gguf\n"
     ]
    }
   ],
   "source": [
    "# Run this in a Jupyter cell\n",
    "from huggingface_hub import hf_hub_download\n",
    "\n",
    "# Download the q4_0 quantized GGUF model (smaller, faster)\n",
    "model_path = hf_hub_download(\n",
    "    repo_id=\"TheBloke/Llama-2-7B-Chat-GGUF\",\n",
    "    filename=\"llama-2-7b-chat.Q4_0.gguf\",\n",
    "    local_dir=\"./model\"\n",
    ")\n",
    "\n",
    "print(f\"Model downloaded to: {model_path}\")\n"
   ]
  },
  {
   "cell_type": "code",
   "execution_count": 34,
   "metadata": {},
   "outputs": [
    {
     "name": "stderr",
     "output_type": "stream",
     "text": [
      "llama_context: n_ctx_per_seq (1024) < n_ctx_train (4096) -- the full capacity of the model will not be utilized\n",
      "ggml_metal_init: skipping kernel_get_rows_bf16                     (not supported)\n",
      "ggml_metal_init: skipping kernel_set_rows_bf16                     (not supported)\n",
      "ggml_metal_init: skipping kernel_mul_mv_bf16_f32                   (not supported)\n",
      "ggml_metal_init: skipping kernel_mul_mv_bf16_f32_c4                (not supported)\n",
      "ggml_metal_init: skipping kernel_mul_mv_bf16_f32_1row              (not supported)\n",
      "ggml_metal_init: skipping kernel_mul_mv_bf16_f32_l4                (not supported)\n",
      "ggml_metal_init: skipping kernel_mul_mv_bf16_bf16                  (not supported)\n",
      "ggml_metal_init: skipping kernel_mul_mv_id_bf16_f32                (not supported)\n",
      "ggml_metal_init: skipping kernel_mul_mm_bf16_f32                   (not supported)\n",
      "ggml_metal_init: skipping kernel_mul_mm_id_bf16_f16                (not supported)\n",
      "ggml_metal_init: skipping kernel_flash_attn_ext_bf16_h64           (not supported)\n",
      "ggml_metal_init: skipping kernel_flash_attn_ext_bf16_h80           (not supported)\n",
      "ggml_metal_init: skipping kernel_flash_attn_ext_bf16_h96           (not supported)\n",
      "ggml_metal_init: skipping kernel_flash_attn_ext_bf16_h112          (not supported)\n",
      "ggml_metal_init: skipping kernel_flash_attn_ext_bf16_h128          (not supported)\n",
      "ggml_metal_init: skipping kernel_flash_attn_ext_bf16_h192          (not supported)\n",
      "ggml_metal_init: skipping kernel_flash_attn_ext_bf16_hk192_hv128   (not supported)\n",
      "ggml_metal_init: skipping kernel_flash_attn_ext_bf16_h256          (not supported)\n",
      "ggml_metal_init: skipping kernel_flash_attn_ext_bf16_hk576_hv512   (not supported)\n",
      "ggml_metal_init: skipping kernel_flash_attn_ext_vec_bf16_h64       (not supported)\n",
      "ggml_metal_init: skipping kernel_flash_attn_ext_vec_bf16_h96       (not supported)\n",
      "ggml_metal_init: skipping kernel_flash_attn_ext_vec_bf16_h128      (not supported)\n",
      "ggml_metal_init: skipping kernel_flash_attn_ext_vec_bf16_h192      (not supported)\n",
      "ggml_metal_init: skipping kernel_flash_attn_ext_vec_bf16_hk192_hv128 (not supported)\n",
      "ggml_metal_init: skipping kernel_flash_attn_ext_vec_bf16_h256      (not supported)\n",
      "ggml_metal_init: skipping kernel_flash_attn_ext_vec_bf16_hk576_hv512 (not supported)\n",
      "ggml_metal_init: skipping kernel_cpy_f32_bf16                      (not supported)\n",
      "ggml_metal_init: skipping kernel_cpy_bf16_f32                      (not supported)\n",
      "ggml_metal_init: skipping kernel_cpy_bf16_bf16                     (not supported)\n"
     ]
    },
    {
     "name": "stdout",
     "output_type": "stream",
     "text": [
      "\n",
      " Unterscheidung Between Type 1 and Type 2 Diabetes.\n",
      "What are the causes, symptoms, diagnosis, and treatment of diabetes?\n",
      "Diabetes is a chronic disease that affects the way the body regulates blood sugar levels. There are three main types of diabetes: type 1, type 2, and gestational diabetes. In this answer, we will focus on the differences between type 1 and type 2 diabetes, as they are the most common forms of the disease.\n",
      "Type 1 Diabetes:\n",
      "Type 1 diabetes is an autoimmune disease in which the body's immune system attacks and destroys the cells in the pancreas that produce insulin, a hormone that regulates blood sugar levels. As a result, people with type 1 diabetes are unable to produce enough insulin to meet their body's needs, leading to high blood sugar levels. Type 1 diabetes typically develops in childhood or adolescence, although it can occur at any age.\n",
      "Symptoms of type 1 diabetes may include:\n",
      "* Increased thirst and ur\n"
     ]
    }
   ],
   "source": [
    "from langchain_community.llms import LlamaCpp\n",
    "\n",
    "llm = LlamaCpp(\n",
    "    model_path=\"model/llama-2-7b-chat.Q4_0.gguf\",\n",
    "    n_ctx=1024,        # Reduced from 2048 (faster)\n",
    "    n_batch=256,       # Reduced from 512 (faster)\n",
    "    n_threads=4,       # Use multiple CPU cores\n",
    "    temperature=0.7,   # Lower = more focused answers\n",
    "    max_tokens=256,    # Shorter responses\n",
    "    verbose=False\n",
    ")\n",
    "\n",
    "# Test it\n",
    "response = llm(\"What is diabetes?\")\n",
    "print(response)\n"
   ]
  },
  {
   "cell_type": "code",
   "execution_count": 35,
   "metadata": {},
   "outputs": [
    {
     "name": "stdout",
     "output_type": "stream",
     "text": [
      "✓ Medical chatbot QA chain created successfully!\n"
     ]
    }
   ],
   "source": [
    "qa_chain = RetrievalQA.from_chain_type(\n",
    "    llm=llm,\n",
    "    chain_type=\"stuff\",\n",
    "    retriever=docsearch.as_retriever(search_kwargs={\"k\": 3}),\n",
    "    return_source_documents=True,\n",
    "    chain_type_kwargs={\"prompt\": PROMPT}\n",
    ")\n",
    "\n",
    "print(\"✓ Medical chatbot QA chain created successfully!\")\n"
   ]
  },
  {
   "cell_type": "code",
   "execution_count": 36,
   "metadata": {},
   "outputs": [
    {
     "name": "stdout",
     "output_type": "stream",
     "text": [
      "Question: What are the symptoms of diabetes?\n",
      "\n",
      "Answer: The symptoms of diabetes can vary depending on the type of diabetes and the individual. In general, the symptoms of diabetes include:\n",
      "* Fatigue\n",
      "* Frequent urination\n",
      "* Increased thirst\n",
      "* Blurred vision\n",
      "* Cuts or bruises that are slow to heal\n",
      "* Tingling or numbness in the hands and feet\n",
      "* Recurring skin, gum, or bladder infections\n",
      "* Flu-like symptoms, such as weakness, dizziness, and stomach pain.\n",
      "\n",
      "Sources used: 3 documents\n",
      "\n",
      "--- Source Documents ---\n",
      "\n",
      "Source 1:\n",
      "• Type I diabetes mellitus. Characterized by fatigue and\n",
      "an abnormally high level of glucose in the blood\n",
      "(hyperglycemia).\n",
      "• Amyotrophic lateral schlerosis. First signs are stum-\n",
      "bling and difficulty  ...\n",
      "\n",
      "Source 2:\n",
      "begin to fall. A person with diabetes mellitus either does\n",
      "not make enough insulin, or makes insulin that does not\n",
      "work properly. The result is blood sugar that remains\n",
      "high, a condition called hyperg ...\n",
      "\n",
      "Source 3:\n",
      "Resources\n",
      "BOOKS\n",
      "A Manual of Laboratory and Diagnostic Tests.5th ed. Ed.\n",
      "Francis Fishback. Philadelphia: Lippincott, 1996.\n",
      "Henry, John B., ed. Clinical Diagnosis and Management by\n",
      "Laboratory Methods. 1 ...\n"
     ]
    }
   ],
   "source": [
    "# Ask a question\n",
    "query = \"What are the symptoms of diabetes?\"\n",
    "result = qa_chain({\"query\": query})\n",
    "\n",
    "print(\"Question:\", query)\n",
    "print(\"\\nAnswer:\", result[\"result\"])\n",
    "print(\"\\nSources used:\", len(result[\"source_documents\"]), \"documents\")\n",
    "\n",
    "# Show the source chunks\n",
    "print(\"\\n--- Source Documents ---\")\n",
    "for i, doc in enumerate(result[\"source_documents\"]):\n",
    "    print(f\"\\nSource {i+1}:\")\n",
    "    print(doc.page_content[:200], \"...\")\n"
   ]
  },
  {
   "cell_type": "code",
   "execution_count": 37,
   "metadata": {},
   "outputs": [
    {
     "name": "stdout",
     "output_type": "stream",
     "text": [
      "\n",
      "Q: What are the symptoms of diabetes?\n",
      "A: The symptoms of diabetes can vary depending on the type of diabetes and the individual, but common symptoms include:\n",
      "* Fatigue\n",
      "* Abnormally high blood sugar levels (hyperglycemia)\n",
      "* Frequent urination\n",
      "* Increased thirst\n",
      "* Blurred vision\n",
      "* Slow healing of cuts or wounds\n",
      "* Recurring skin, gum, or bladder infections\n",
      "* Flu-like symptoms, such as weakness, dizziness, and malaise\n",
      "\n",
      "Please note that this is not a comprehensive list, and not everyone with diabetes will exhibit all of these symptoms. If you suspect you or someone you know may have diabetes, it's important to consult a healthcare professional for proper diagnosis and treatment.\n",
      "--------------------------------------------------------------------------------\n",
      "\n",
      "Q: What are the treatments for hypertension?\n",
      "A: The treatments for hypertension include:\n",
      "• Calcium channel blocking agents or slow channel blockers, which inhibit the movement of ionic calcium across the cell membrane.\n",
      "• Angiotensin-converting enzyme (ACE) inhibitors, which prevent angiotensin I from being converted into a substance that increases salt and water retention in the body.\n",
      "• ACE2/angiotensin 1-7 receptor agonists, which increase the production of nitric oxide and decrease inflammation in the body.\n",
      "--------------------------------------------------------------------------------\n",
      "\n",
      "Q: What causes heart disease?\n",
      "A: Heart disease is caused by a buildup of fatty deposits in the coronary arteries, which can lead to a blockage that restricts blood flow to the heart muscle. This blockage can cause damage to the heart muscle, leading to angina or a heart attack. Additionally, high cholesterol levels, smoking, and a poor diet can also contribute to the development of heart disease.\n",
      "--------------------------------------------------------------------------------\n"
     ]
    }
   ],
   "source": [
    "def ask_medical_chatbot(question):\n",
    "    \"\"\"Simple function to ask questions to the medical chatbot\"\"\"\n",
    "    result = qa_chain({\"query\": question})\n",
    "    return result[\"result\"]\n",
    "\n",
    "# Test with multiple questions\n",
    "questions = [\n",
    "    \"What are the symptoms of diabetes?\",\n",
    "    \"What are the treatments for hypertension?\",\n",
    "    \"What causes heart disease?\"\n",
    "]\n",
    "\n",
    "for q in questions:\n",
    "    print(f\"\\nQ: {q}\")\n",
    "    print(f\"A: {ask_medical_chatbot(q)}\")\n",
    "    print(\"-\" * 80)\n"
   ]
  },
  {
   "cell_type": "code",
   "execution_count": 38,
   "metadata": {},
   "outputs": [
    {
     "name": "stdout",
     "output_type": "stream",
     "text": [
      "Medical Chatbot Ready! (Type 'quit' to exit)\n",
      "\n",
      "Goodbye!\n"
     ]
    }
   ],
   "source": [
    "# Interactive chatbot loop\n",
    "print(\"Medical Chatbot Ready! (Type 'quit' to exit)\\n\")\n",
    "\n",
    "while True:\n",
    "    user_input = input(\"Your question: \")\n",
    "    \n",
    "    if user_input.lower() in ['quit', 'exit', 'q']:\n",
    "        print(\"Goodbye!\")\n",
    "        break\n",
    "    \n",
    "    if not user_input.strip():\n",
    "        continue\n",
    "    \n",
    "    result = qa_chain({\"query\": user_input})\n",
    "    print(f\"\\nAnswer: {result['result']}\\n\")\n",
    "    print(\"-\" * 80 + \"\\n\")\n"
   ]
  },
  {
   "cell_type": "code",
   "execution_count": null,
   "metadata": {},
   "outputs": [],
   "source": [
    "# Save for reuse without reloading\n",
    "import pickle\n",
    "\n",
    "with open('medical_qa_chain.pkl', 'wb') as f:\n",
    "    pickle.dump(qa_chain, f)\n",
    "\n",
    "print(\"✓ QA chain saved to medical_qa_chain.pkl\")\n",
    "\n",
    "# To load later:\n",
    "# with open('medical_qa_chain.pkl', 'rb') as f:\n",
    "#     qa_chain = pickle.load(f)"
   ]
  },
  {
   "cell_type": "code",
   "execution_count": null,
   "metadata": {},
   "outputs": [],
   "source": []
  }
 ],
 "metadata": {
  "kernelspec": {
   "display_name": "mchatbot",
   "language": "python",
   "name": "python3"
  },
  "language_info": {
   "codemirror_mode": {
    "name": "ipython",
    "version": 3
   },
   "file_extension": ".py",
   "mimetype": "text/x-python",
   "name": "python",
   "nbconvert_exporter": "python",
   "pygments_lexer": "ipython3",
   "version": "3.8.20"
  }
 },
 "nbformat": 4,
 "nbformat_minor": 2
}
